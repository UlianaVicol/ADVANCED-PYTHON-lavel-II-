{
 "cells": [
  {
   "cell_type": "code",
   "execution_count": 29,
   "metadata": {},
   "outputs": [],
   "source": [
    "## COMMON vs SPECIFFIC LOGIC\n",
    "## RELATIONSHIPS between OBJECTS\n",
    "\n",
    "class User:\n",
    "    # common logic (python specific)\n",
    "    def __init__(self, nickname, password):\n",
    "        self.nickname = nickname\n",
    "        self.password = password\n",
    "        self.online = False\n",
    "        self.friends = []   # list of User objects\n",
    "\n",
    "    def __str__(self):\n",
    "        return f\"User <{self.nickname}>\"\n",
    "    \n",
    "    def __repr__(self):\n",
    "        return self.__str__()\n",
    "    \n",
    "    # User specific logic (app specific)\n",
    "    def auth(self, nickname, password):\n",
    "        if nickname == self.nickname and password == self.password:\n",
    "            self.online = True\n",
    "            # lose coupling\n",
    "            return True\n",
    "        else:\n",
    "            return False\n",
    "    \n",
    "    def logout(self):\n",
    "        self.online = False\n",
    "        \n",
    "    def addFriend(self, friend):\n",
    "        # direct reference\n",
    "        # HW2: check if the friend type is User class\n",
    "        if type(friend) == type(self):\n",
    "            # HW1: check if the friend DOESN'T exist yet! search a value in the list\n",
    "            #       for + if -> nickname, break\n",
    "            if len(self.friends) == 0:\n",
    "                self.friends.append(friend.nickname)     \n",
    "            else:\n",
    "                index_1 = 0\n",
    "                for i in self.friends:\n",
    "                    index_1 = index_1 + 1\n",
    "                    if friend.nickname != i:\n",
    "                        if len(self.friends) == index_1:\n",
    "                            self.friends.append(friend.nickname)  \n",
    "                    else:\n",
    "                        return False\n",
    "\n",
    "\n",
    "\n",
    "            #if self.friends.count(friend) < 1 and friend != self:\n",
    "                #self.friends.append(friend)"
   ]
  },
  {
   "cell_type": "code",
   "execution_count": 32,
   "metadata": {},
   "outputs": [
    {
     "name": "stdout",
     "output_type": "stream",
     "text": [
      "user Admin has friend: []\n",
      "user admin2 has friend: []\n",
      "user admin3 has friend: []\n",
      "user Admin has friend: ['admin2', 'admin3', 'admin4', 'admin5']\n",
      "user admin2 has friend: []\n",
      "user admin3 has friend: []\n"
     ]
    }
   ],
   "source": [
    "# Using the class objects\n",
    "user_1 = User(\"Admin\", \"1234567\")\n",
    "user_2 = User(\"admin2\", \"1234567\")\n",
    "user_3 = User(\"admin3\", \"1234567\")\n",
    "\n",
    "\n",
    "user_4 = User(\"admin4\", \"qwerty1234\")\n",
    "user_5 = User(\"admin5\", \"qwerty1234\")\n",
    "\n",
    "\n",
    "print(f\"user {user_1.nickname} has friend: {user_1.friends}\")\n",
    "print(f\"user {user_2.nickname} has friend: {user_2.friends}\")\n",
    "print(f\"user {user_3.nickname} has friend: {user_3.friends}\")\n",
    "\n",
    "user_1.auth(\"Admin\", \"1234567\")\n",
    "\n",
    "user_1.addFriend(user_2)\n",
    "user_1.addFriend(user_3)\n",
    "user_1.addFriend(user_4)\n",
    "user_1.addFriend(user_5)\n",
    "\n",
    "print(f\"user {user_1.nickname} has friend: {user_1.friends}\")\n",
    "print(f\"user {user_2.nickname} has friend: {user_2.friends}\")\n",
    "print(f\"user {user_3.nickname} has friend: {user_3.friends}\")"
   ]
  }
 ],
 "metadata": {
  "interpreter": {
   "hash": "a42ccb73e7d9bfdf27e036f1d2b8b681e55fc0743cc5586bc2474d4a60f4b886"
  },
  "kernelspec": {
   "display_name": "Python 3.10.2 64-bit",
   "language": "python",
   "name": "python3"
  },
  "language_info": {
   "codemirror_mode": {
    "name": "ipython",
    "version": 3
   },
   "file_extension": ".py",
   "mimetype": "text/x-python",
   "name": "python",
   "nbconvert_exporter": "python",
   "pygments_lexer": "ipython3",
   "version": "3.10.2"
  },
  "orig_nbformat": 4
 },
 "nbformat": 4,
 "nbformat_minor": 2
}
